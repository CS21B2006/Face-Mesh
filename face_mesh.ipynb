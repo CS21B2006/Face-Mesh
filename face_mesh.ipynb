{
 "cells": [
  {
   "cell_type": "code",
   "execution_count": 1,
   "id": "e9a62077",
   "metadata": {},
   "outputs": [
    {
     "name": "stdout",
     "output_type": "stream",
     "text": [
      "Requirement already satisfied: opencv-python in c:\\users\\rahuls\\anaconda3\\lib\\site-packages (4.6.0.66)\n",
      "Requirement already satisfied: numpy>=1.14.5 in c:\\users\\rahuls\\anaconda3\\lib\\site-packages (from opencv-python) (1.22.4)\n"
     ]
    }
   ],
   "source": [
    "!pip install opencv-python"
   ]
  },
  {
   "cell_type": "code",
   "execution_count": 2,
   "id": "a8e4e9ba",
   "metadata": {},
   "outputs": [
    {
     "name": "stdout",
     "output_type": "stream",
     "text": [
      "Requirement already satisfied: mediapipe in c:\\users\\rahuls\\anaconda3\\lib\\site-packages (0.10.1)\n",
      "Requirement already satisfied: attrs>=19.1.0 in c:\\users\\rahuls\\anaconda3\\lib\\site-packages (from mediapipe) (21.4.0)\n",
      "Requirement already satisfied: opencv-contrib-python in c:\\users\\rahuls\\anaconda3\\lib\\site-packages (from mediapipe) (4.7.0.72)\n",
      "Requirement already satisfied: absl-py in c:\\users\\rahuls\\anaconda3\\lib\\site-packages (from mediapipe) (1.4.0)\n",
      "Requirement already satisfied: matplotlib in c:\\users\\rahuls\\anaconda3\\lib\\site-packages (from mediapipe) (3.5.1)\n",
      "Requirement already satisfied: numpy in c:\\users\\rahuls\\anaconda3\\lib\\site-packages (from mediapipe) (1.22.4)\n",
      "Requirement already satisfied: sounddevice>=0.4.4 in c:\\users\\rahuls\\anaconda3\\lib\\site-packages (from mediapipe) (0.4.6)\n",
      "Requirement already satisfied: flatbuffers>=2.0 in c:\\users\\rahuls\\anaconda3\\lib\\site-packages (from mediapipe) (23.5.26)\n",
      "Requirement already satisfied: protobuf<4,>=3.11 in c:\\users\\rahuls\\anaconda3\\lib\\site-packages (from mediapipe) (3.20.3)\n",
      "Requirement already satisfied: CFFI>=1.0 in c:\\users\\rahuls\\anaconda3\\lib\\site-packages (from sounddevice>=0.4.4->mediapipe) (1.15.0)\n",
      "Requirement already satisfied: pycparser in c:\\users\\rahuls\\anaconda3\\lib\\site-packages (from CFFI>=1.0->sounddevice>=0.4.4->mediapipe) (2.21)\n",
      "Requirement already satisfied: pillow>=6.2.0 in c:\\users\\rahuls\\anaconda3\\lib\\site-packages (from matplotlib->mediapipe) (9.0.1)\n",
      "Requirement already satisfied: kiwisolver>=1.0.1 in c:\\users\\rahuls\\anaconda3\\lib\\site-packages (from matplotlib->mediapipe) (1.3.2)\n",
      "Requirement already satisfied: packaging>=20.0 in c:\\users\\rahuls\\anaconda3\\lib\\site-packages (from matplotlib->mediapipe) (21.3)\n",
      "Requirement already satisfied: python-dateutil>=2.7 in c:\\users\\rahuls\\anaconda3\\lib\\site-packages (from matplotlib->mediapipe) (2.8.2)\n",
      "Requirement already satisfied: fonttools>=4.22.0 in c:\\users\\rahuls\\anaconda3\\lib\\site-packages (from matplotlib->mediapipe) (4.25.0)\n",
      "Requirement already satisfied: cycler>=0.10 in c:\\users\\rahuls\\anaconda3\\lib\\site-packages (from matplotlib->mediapipe) (0.11.0)\n",
      "Requirement already satisfied: pyparsing>=2.2.1 in c:\\users\\rahuls\\anaconda3\\lib\\site-packages (from matplotlib->mediapipe) (3.0.4)\n",
      "Requirement already satisfied: six>=1.5 in c:\\users\\rahuls\\anaconda3\\lib\\site-packages (from python-dateutil>=2.7->matplotlib->mediapipe) (1.16.0)\n",
      "Note: you may need to restart the kernel to use updated packages.\n"
     ]
    }
   ],
   "source": [
    "pip install mediapipe"
   ]
  },
  {
   "cell_type": "code",
   "execution_count": 14,
   "id": "0ef33c2d",
   "metadata": {},
   "outputs": [
    {
     "name": "stdout",
     "output_type": "stream",
     "text": [
      "The video is done.\n"
     ]
    }
   ],
   "source": [
    "import cv2\n",
    "import mediapipe as mp\n",
    "import time\n",
    "\n",
    "#To capture the image using default camera\n",
    "cap=cv2.VideoCapture('C:/Users/rahuls/OneDrive/Desktop/projects/friends.mp4')\n",
    "\n",
    "mpFaceMesh=mp.solutions.face_mesh\n",
    "face_mesh=mpFaceMesh.FaceMesh(max_num_faces=2)\n",
    "mpDraw=mp.solutions.drawing_utils\n",
    "drawSpec=mpDraw.DrawingSpec(thickness=1,circle_radius=2)\n",
    "\n",
    "pTime=0\n",
    "cTime=0\n",
    "\n",
    "try:\n",
    "    while True:\n",
    "        success,img=cap.read()\n",
    "        gray=cv2.cvtColor(img,cv2.COLOR_BGR2RGB)\n",
    "        cv2.imshow(\"Image\",gray)\n",
    "        results=facemesh.process(gray)\n",
    "        #print(results.multi_hand_landmarks)\n",
    "\n",
    "        if results.multi_face_landmarks:\n",
    "            for faceLms in results.multi_face_landmarks:\n",
    "                mpDraw.draw_landmarks(img ,faceLms,mpFaceMesh.FACEMESH_CONTOURS,drawSpec,drawSpec)\n",
    "\n",
    "        cTime=time.time()\n",
    "        fps=1/(cTime-pTime)\n",
    "        pTime=cTime\n",
    "\n",
    "        cv2.putText(img,str(int(fps)),(10,70), cv2.FONT_HERSHEY_PLAIN,3,(255,0,255),3)\n",
    "\n",
    "        cv2.imshow(\"Image\",img)\n",
    "        if cv2.waitKey(2) & 0xFF == ord('q'):\n",
    "            break\n",
    "except Exception as e:\n",
    "    # Handle the exception and display an error message\n",
    "    print(f\"The video is done.\")           \n",
    "    # Release the video capture object and close the window\n",
    "    cap.release()\n",
    "    cv2.destroyAllWindows() "
   ]
  },
  {
   "cell_type": "code",
   "execution_count": null,
   "id": "a6a61851",
   "metadata": {},
   "outputs": [],
   "source": []
  }
 ],
 "metadata": {
  "kernelspec": {
   "display_name": "Python 3 (ipykernel)",
   "language": "python",
   "name": "python3"
  },
  "language_info": {
   "codemirror_mode": {
    "name": "ipython",
    "version": 3
   },
   "file_extension": ".py",
   "mimetype": "text/x-python",
   "name": "python",
   "nbconvert_exporter": "python",
   "pygments_lexer": "ipython3",
   "version": "3.9.12"
  }
 },
 "nbformat": 4,
 "nbformat_minor": 5
}
